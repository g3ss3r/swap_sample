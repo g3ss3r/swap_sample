{
 "cells": [
  {
   "cell_type": "code",
   "execution_count": null,
   "id": "95146c1b-3347-4b05-9d12-b35860ec5220",
   "metadata": {},
   "outputs": [],
   "source": [
    "from web3 import Web3\n",
    "from web3.middleware import geth_poa_middleware\n",
    "import os\n",
    "from dotenv import load_dotenv\n",
    "import json"
   ]
  },
  {
   "cell_type": "code",
   "execution_count": null,
   "id": "9bd8f2f6-86f6-46e6-8209-416d0b277eb6",
   "metadata": {},
   "outputs": [],
   "source": [
    "import sys\n",
    "sys.path.append('./lib')\n",
    "\n",
    "from pool_v3 import PoolV3\n",
    "from abi_holder import ABIHolder"
   ]
  },
  {
   "cell_type": "code",
   "execution_count": null,
   "id": "34f5c21f-3c4b-412a-a825-e08d56d673ea",
   "metadata": {},
   "outputs": [],
   "source": [
    "def get_gas_price(mode=\"market\"):\n",
    "    current_price = w3.eth.gas_price / 1e9\n",
    "    \n",
    "    if mode == \"low\":\n",
    "        return round(current_price * 0.9)\n",
    "    elif mode == \"high\":\n",
    "        return round(current_price * 1.1)\n",
    "    elif mode == \"asap\":\n",
    "        return round(current_price * 2)\n",
    "    else:\n",
    "        return round(current_price)"
   ]
  },
  {
   "cell_type": "code",
   "execution_count": null,
   "id": "8dbf0f84-212c-490c-b61f-b9ba0416692e",
   "metadata": {},
   "outputs": [],
   "source": [
    "load_dotenv()\n",
    "\n",
    "abi_holder = ABIHolder()\n",
    "\n",
    "w3 = Web3(Web3.HTTPProvider(os.environ.get(\"RPC_POLYGON\")))\n",
    "w3.middleware_onion.inject(geth_poa_middleware, layer=0)\n",
    "\n",
    "account_address   = w3.to_checksum_address(os.environ.get(\"WALLET_ADDRESS\"))  \n",
    "private_key       = os.environ.get(\"KEY_PRIVATE\")\n",
    "\n",
    "account_address"
   ]
  },
  {
   "cell_type": "code",
   "execution_count": null,
   "id": "dea89ae2-19f8-4771-b346-1ddcc8100aec",
   "metadata": {},
   "outputs": [],
   "source": [
    "ONE_INCH = '0x1111111254fb6c44bAC0beD2854e76F90643097d'\n",
    "inch_router = w3.eth.contract(address=Web3.to_checksum_address(ONE_INCH), abi=abi_holder.inch_router)"
   ]
  },
  {
   "cell_type": "code",
   "execution_count": null,
   "id": "c5b3dd47-8da8-4dc4-80ec-e9d906de0454",
   "metadata": {},
   "outputs": [],
   "source": [
    "POOL_ADDRESS = '0x31083a78e11b18e450fd139f9abea98cd53181b7' \n",
    "pool = PoolV3(w3, POOL_ADDRESS)\n",
    "\n",
    "amount_in = 1.\n",
    "slippage = 0.1\n",
    "min_out = (1.0 - slippage) * pool.get_amount_out(amount_in, zto=False)"
   ]
  },
  {
   "cell_type": "code",
   "execution_count": null,
   "id": "21ca6b09-9cfe-45ba-9b8a-9d2f3e7b4b72",
   "metadata": {},
   "outputs": [],
   "source": [
    "print(f\"\"\"\n",
    "{pool.token0.symbol} / {pool.token1.symbol} [{pool.address}]\n",
    "- fee: {pool.fee/(10**4)}\n",
    "- current price: {pool.get_price(zto=False)}\n",
    "- slippage: {slippage}\n",
    "\n",
    "---\n",
    "\n",
    "Your balance {pool.token1.get_balance(account_address)[1]}\n",
    "{amount_in} {pool.token1.symbol} -> [{min_out} - {pool.get_amount_out(amount_in, zto=False)}] {pool.token0.symbol}\n",
    "\"\"\")"
   ]
  },
  {
   "cell_type": "code",
   "execution_count": null,
   "id": "05ec82ca-2467-4c71-a4eb-726576ec0c51",
   "metadata": {},
   "outputs": [],
   "source": [
    "approve_trx = pool.token1.get_approve_tx(\n",
    "    account_address, \n",
    "    ONE_INCH, \n",
    "    pool.token1.int_by_value(amount_in)\n",
    ")\n",
    "\n",
    "signed_approve_tx = w3.eth.account.sign_transaction(approve_trx, private_key)\n",
    "tx_hash           = w3.eth.send_raw_transaction(signed_approve_tx.rawTransaction)\n",
    "\n",
    "print(f\"https://polygonscan.com/tx/{w3.to_hex(tx_hash)}\")"
   ]
  },
  {
   "cell_type": "code",
   "execution_count": null,
   "id": "ac2a2e98-d1c2-42e7-82c0-7cccac1f0130",
   "metadata": {},
   "outputs": [],
   "source": [
    "input(\"Подождать исполнения апрува\")"
   ]
  },
  {
   "cell_type": "code",
   "execution_count": null,
   "id": "63b5c3c5-94a2-4480-952b-cef0eb8deff5",
   "metadata": {},
   "outputs": [],
   "source": [
    "tx_swap_params = {\n",
    "    'chainId':  w3.eth.chain_id,  \n",
    "    'gas':      200000,\n",
    "    'gasPrice': w3.to_wei(get_gas_price(), 'gwei'),\n",
    "    'nonce':    w3.eth.get_transaction_count(account_address),\n",
    "}\n",
    "\n",
    "swap_tx = inch_router.functions.uniswapV3Swap(\n",
    "    pool.token1.int_by_value(amount_in), \n",
    "    pool.token0.int_by_value(min_out),\n",
    "    [pool.encode_address(zto=False)]\n",
    ").build_transaction(tx_swap_params)\n",
    "\n",
    "signed_usdt_tx = w3.eth.account.sign_transaction(swap_tx, private_key)\n",
    "tx_hash = w3.eth.send_raw_transaction(signed_usdt_tx.rawTransaction)\n",
    "\n",
    "print(f\"https://polygonscan.com/tx/{w3.to_hex(tx_hash)}\")"
   ]
  },
  {
   "cell_type": "code",
   "execution_count": null,
   "id": "a77f32e5-8e96-4500-94d9-3300ef0d9b72",
   "metadata": {},
   "outputs": [],
   "source": []
  }
 ],
 "metadata": {
  "kernelspec": {
   "display_name": "Python 3 (ipykernel)",
   "language": "python",
   "name": "python3"
  },
  "language_info": {
   "codemirror_mode": {
    "name": "ipython",
    "version": 3
   },
   "file_extension": ".py",
   "mimetype": "text/x-python",
   "name": "python",
   "nbconvert_exporter": "python",
   "pygments_lexer": "ipython3",
   "version": "3.10.9"
  }
 },
 "nbformat": 4,
 "nbformat_minor": 5
}
